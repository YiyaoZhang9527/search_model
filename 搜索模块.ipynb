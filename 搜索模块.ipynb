{
 "cells": [
  {
   "cell_type": "code",
   "execution_count": 1,
   "metadata": {},
   "outputs": [
    {
     "output_type": "stream",
     "name": "stdout",
     "text": [
      "Asia/Shanghai\n检查配置文件\n"
     ]
    }
   ],
   "source": [
    "import numpy as np\n",
    "import pandas as pd\n",
    "import search_model"
   ]
  },
  {
   "cell_type": "code",
   "execution_count": 2,
   "metadata": {},
   "outputs": [
    {
     "output_type": "stream",
     "name": "stderr",
     "text": [
      "Building prefix dict from /Users/zhangjing/opt/anaconda3/lib/python3.7/site-packages/jieba/dict.txt ...\n",
      "Loading model from cache /var/folders/2b/3ndz1t7n7kj621h92mmnc2x80000gn/T/jieba.cache\n",
      "Loading model cost 0.9571967124938965 seconds.\n",
      "Prefix dict has been built succesfully.\n"
     ]
    },
    {
     "output_type": "execute_result",
     "data": {
      "text/plain": [
       "         分值 重叠词计数 TFIDF的余弦值 文本长度 词向量的余弦值   词向量的协方差 字符串的亚卡尔系数 单词计算的亚卡尔系数  \\\n",
       "2  0.980631     3  0.980631    3       0  0.622459  0.509397   0.506521   \n",
       "0  0.980631     1  0.980631    3       0  0.622459  0.521725    0.51785   \n",
       "1  0.980631     1  0.980631    3       0  0.622459  0.517235   0.513155   \n",
       "\n",
       "       本文重叠词列表                                               文本说明  \\\n",
       "2  [条件, 随, 机场]  数学推导+手写机器学习算法系列机器学习实验室7月29日数学推导+手写机器学习算法系列文章索引...   \n",
       "0         [条件]                            概率统计——为什么条件概率的结果总和直觉不同？   \n",
       "1         [条件]                 概率论简明教程（联合，条件，全概率，P检测，贝叶斯）（文字今日头条）   \n",
       "\n",
       "                                                系统命令   系统      测试分  \n",
       "2  https://mp.weixin.qq.com/s/xviPmQswwpyBwy44fv6ObQ  all  2.49655  \n",
       "0      https://www.toutiao.com/i6780096068609638916/  all  2.52021  \n",
       "1  https://www.toutiao.com/a6835885756288860683/?...  all  2.51102  "
      ],
      "text/html": "<div>\n<style scoped>\n    .dataframe tbody tr th:only-of-type {\n        vertical-align: middle;\n    }\n\n    .dataframe tbody tr th {\n        vertical-align: top;\n    }\n\n    .dataframe thead th {\n        text-align: right;\n    }\n</style>\n<table border=\"1\" class=\"dataframe\">\n  <thead>\n    <tr style=\"text-align: right;\">\n      <th></th>\n      <th>分值</th>\n      <th>重叠词计数</th>\n      <th>TFIDF的余弦值</th>\n      <th>文本长度</th>\n      <th>词向量的余弦值</th>\n      <th>词向量的协方差</th>\n      <th>字符串的亚卡尔系数</th>\n      <th>单词计算的亚卡尔系数</th>\n      <th>本文重叠词列表</th>\n      <th>文本说明</th>\n      <th>系统命令</th>\n      <th>系统</th>\n      <th>测试分</th>\n    </tr>\n  </thead>\n  <tbody>\n    <tr>\n      <th>2</th>\n      <td>0.980631</td>\n      <td>3</td>\n      <td>0.980631</td>\n      <td>3</td>\n      <td>0</td>\n      <td>0.622459</td>\n      <td>0.509397</td>\n      <td>0.506521</td>\n      <td>[条件, 随, 机场]</td>\n      <td>数学推导+手写机器学习算法系列机器学习实验室7月29日数学推导+手写机器学习算法系列文章索引...</td>\n      <td>https://mp.weixin.qq.com/s/xviPmQswwpyBwy44fv6ObQ</td>\n      <td>all</td>\n      <td>2.49655</td>\n    </tr>\n    <tr>\n      <th>0</th>\n      <td>0.980631</td>\n      <td>1</td>\n      <td>0.980631</td>\n      <td>3</td>\n      <td>0</td>\n      <td>0.622459</td>\n      <td>0.521725</td>\n      <td>0.51785</td>\n      <td>[条件]</td>\n      <td>概率统计——为什么条件概率的结果总和直觉不同？</td>\n      <td>https://www.toutiao.com/i6780096068609638916/</td>\n      <td>all</td>\n      <td>2.52021</td>\n    </tr>\n    <tr>\n      <th>1</th>\n      <td>0.980631</td>\n      <td>1</td>\n      <td>0.980631</td>\n      <td>3</td>\n      <td>0</td>\n      <td>0.622459</td>\n      <td>0.517235</td>\n      <td>0.513155</td>\n      <td>[条件]</td>\n      <td>概率论简明教程（联合，条件，全概率，P检测，贝叶斯）（文字今日头条）</td>\n      <td>https://www.toutiao.com/a6835885756288860683/?...</td>\n      <td>all</td>\n      <td>2.51102</td>\n    </tr>\n  </tbody>\n</table>\n</div>"
     },
     "metadata": {},
     "execution_count": 2
    }
   ],
   "source": [
    "search_model.search_engine_function(\"条件随机场\")"
   ]
  },
  {
   "cell_type": "code",
   "execution_count": null,
   "metadata": {},
   "outputs": [],
   "source": []
  }
 ],
 "metadata": {
  "kernelspec": {
   "name": "python3",
   "display_name": "Python 3.7.6 64-bit ('base': conda)",
   "metadata": {
    "interpreter": {
     "hash": "7c4fcd1867bd323c7aad8289bed2305e2370a706f3776dcea1780aca48c46e43"
    }
   }
  },
  "language_info": {
   "codemirror_mode": {
    "name": "ipython",
    "version": 3
   },
   "file_extension": ".py",
   "mimetype": "text/x-python",
   "name": "python",
   "nbconvert_exporter": "python",
   "pygments_lexer": "ipython3",
   "version": "3.7.6-final"
  }
 },
 "nbformat": 4,
 "nbformat_minor": 4
}